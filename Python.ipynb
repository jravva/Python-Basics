{
  "cells": [
    {
      "cell_type": "code",
      "execution_count": null,
      "metadata": {
        "id": "ARcnDIC3gcs_"
      },
      "outputs": [],
      "source": []
    },
    {
      "cell_type": "markdown",
      "metadata": {
        "id": "-KbGj69-gdU_"
      },
      "source": [
        "#Python Basic Questions\n",
        "\n",
        "1.\tWhat is Python, and why is it popular?\n",
        "Ans: Python is a high-level, interpreted programming language designed for easy readability and to promote clear and logical code. Python is popular due to its simplicity, versatility, and wide range of applications, including web development, data analysis, artificial intelligence, and scientific computing. Python's vast libraries and frameworks, such as Django, NumPy, and TensorFlow, make it accessible for beginners and powerful enough for experienced programmers to use in a variety of fields. Its large community and continuous development contribute to its popularity and success.\n",
        "\n",
        "\n",
        "2.\tWhat is an interpreter in Python?\n",
        "Ans: An interpreter in Python is a program that executes Python code directly, converting it line by line into machine code that the computer can understand and execute. Unlike compiled languages that require code to be fully converted into machine code before execution, Python's interpreter processes the code at runtime, which allows for greater flexibility and ease of use. The Python interpreter reads the script, parses the code, and executes the instructions in sequence. This makes Python an interpreted language, enabling rapid development and testing as no separate compilation step is needed. The most used Python interpreter is CPython, which is the default and reference implementation of Python.\n",
        "\n",
        "\n",
        "3.\tWhat are pre-defined keywords in Python?\n",
        "Ans: Pre-defined keywords in Python are reserved words that have special syntactic significance and cannot be used as identifiers, such as variable names or function names, because they convey specific commands or actions within the Python language. These keywords are integral to the structure of Python programs and are built into the language's core.\n",
        "Some common Python keywords include:\n",
        "•\tif, else, elif: Used for conditional statements.\n",
        "•\tfor, while: Used for looping constructs.\n",
        "•\tdef, return: Used for defining functions.\n",
        "•\tclass: Used for creating classes in object-oriented programming.\n",
        "•\timport, from, as: Used for including modules.\n",
        "•\ttry, except, finally: Used for handling exceptions.\n",
        "•\tTrue, False, none: Represent boolean values and the absence of a value.\n",
        "•\tand, or, not: Logical operators.\n",
        "•\tbreak, continue: Used inside loops to alter their normal behavior.\n",
        "•\twith: Used to simplify exception handling and cleanup actions in resource management.\n",
        "\n",
        "\n",
        "4.\tCan keywords be used as variable names?\n",
        "Ans: No, keywords cannot be used as variable names in Python. Keywords are reserved words with predefined meanings and specific purposes in the Python programming language. They are crucial for the syntax and structure of the code.\n",
        "Using a keyword as a variable name would lead to a syntax error because Python's interpreter expects a keyword to be part of a specific language construct rather than an identifier for a variable, function, or class. This restriction helps prevent confusion and errors in understanding or processing the code.\n",
        "For example, trying to use the keyword if as a variable name would result in an error:\n",
        "if = 5 # This will raise a Syntax Error\n",
        "5.\tWhat is mutability in Python?\n",
        "Ans: Mutability in Python refers to the ability of an object's state or contents to be modified after it has been created. In Python, some objects are mutable, meaning they can be changed, while others are immutable, meaning they cannot be changed once created.\n",
        "Mutable objects include types like:\n",
        "•\tLists: You can add, remove, or change elements in a list.\n",
        "•\tDictionaries: You can add, remove, or modify key-value pairs.\n",
        "•\tSets: Elements can be added or removed.\n",
        "Immutable objects include types like:\n",
        "•\tIntegers: The value of an integer cannot be altered. The variable can be reassigned to a new value, but the original value remains unchanged.\n",
        "•\tStrings: You cannot change specific characters in a string without creating a new string.\n",
        "•\tTuples: Elements and their order in a tuple cannot be modified once defined.\n",
        "Understanding mutability is important because it affects how a program behaves, especially when passing objects as arguments to functions or when working with shared data in complex data structures. Mutable objects can lead to unintended side effects if not handled properly, while immutable objects provide a level of safety by guaranteeing that their data cannot be altered by other parts of the program.\n",
        "\n",
        "\n",
        "\n",
        "\n",
        "6.\tWhy are lists mutable, but tuples are immutable?\n",
        "1.\tLists: Lists are mutable to provide flexibility for dynamically managing groups of elements. They are designed to allow modifications such as adding, removing, or changing elements. This makes lists suitable for use cases where the contents might need to be updated frequently, like managing collections of items, iterating through elements to modify them, or when the number of elements in the sequence may change over time.\n",
        "2.\tTuples: Tuples, on the other hand, are immutable to ensure that the data they contain is write-protected after creation. This immutability makes tuples a safer choice for fixed collections of items and can serve to protect data from being inadvertently changed. It also makes tuples suitable for use as keys in dictionaries, which require immutable types to ensure consistent hashing. The immutability of tuples results in faster performance than lists when iterating through large sets of data because of their static nature.\n",
        "The design choice to make lists mutable and tuples immutable reflects the intended usage scenarios:\n",
        "•\tUse lists when you need a flexible container that may change over time.\n",
        "•\tUse tuples when you need a read-only record that should not be altered after creation, offering\n",
        "\n",
        "7.\tWhat is the difference between “==” and “is” operators in Python?\n",
        "Ans: \"==\" Operator (Equality Operator):\n",
        "•\tThe \"==\" operator checks whether the values of two variables are equal. It compares the values of the objects and returns True if they are equivalent, regardless of whether they are the same object in memory.\n",
        "•\tExample:\n",
        "•\ta = [1, 2, 3]\n",
        "•\tb = [1, 2, 3]\n",
        "•\tprint(a == b)  # Output: True, because the values are the same.\n",
        ">>  \"is\" Operator (Identity Operator):\n",
        "•\tThe \"is\" operator checks whether two variables refer to the same object in memory, i.e., whether they have the same identity. It returns True if the operands refer to the same object.\n",
        "•\tExample:\n",
        "•\ta = [1, 2, 3]\n",
        "•\tb = a\n",
        "•\tc = [1, 2, 3]\n",
        "•\tprint (a is b) # Output: True, because 'b' is the same object as 'a'.\n",
        "•\tprint (a is c) # Output: False, because 'c' is a different object with the same values.\n",
        "In summary:\n",
        "•\tUse \"==\" when you need to compare values for equality.\n",
        "•\tUse \"is\" when you need to determine if two variables point to the same object in memory.\n",
        "\n",
        "8.\tWhat are logical operators in Python?\n",
        "Ans: Logical operators in Python are used to combine conditional statements. The three logical operators in Python are:\n",
        "1.\tand: This operator returns True if both operands are True, otherwise it returns False.\n",
        "2.\tor: This operator returns True if at least one of the operands is True, otherwise it returns False.\n",
        "3.\tnot: This operator returns True if the operand is False and returns False if the operand is True.\n",
        "These operators are used in control flow statements such as if, while, and for loops to make decisions based on multiple conditions\n",
        "\n",
        "9.\tWhat is type casting in Python?\n",
        "Ans: Type casting in Python refers to the process of converting one data type to another. This is commonly done when you need to perform operations between different types of data, or when you need to change the representation of data for input/output purposes.\n",
        "There are several built-in functions in Python that allow you to perform type casting, including:\n",
        "1.\tint(): Converts a value to an integer.\n",
        "2.\tfloat(): Converts a value to a floating point number.\n",
        "3.\tstr(): Converts a value to a string.\n",
        "4.\tbool(): Converts a value to a boolean (True or False).\n",
        "For example:\n",
        "x = \"123\"\n",
        "y = int(x)  # y will be an integer with value 123\n",
        "a = 10.5\n",
        "b = int(a)  # b will be an integer with value 10\n",
        "c = 0\n",
        "d = bool(c)  # d will be a boolean with value False\n",
        "\n",
        "10.\tWhat is the difference between implicit and explicit type casting\n",
        "Ans: implicit type casting is handled by the language itself without programmer intervention, whereas explicit type casting requires specific actions by the programmer to convert data from one type to another. This distinction is crucial for writing correct and efficient code, especially in languages where type compatibility issues can lead to bugs or unexpected behavior.\n",
        "11.\tWhat is the purpose of conditional statements in Python\n",
        "Conditional statements in Python are used to execute specific blocks of code based on whether certain conditions are met. They enable a program to react differently to different inputs or states, making the program more dynamic and flexible. The primary purposes of conditional statements include:\n",
        "1.\tDecision Making:\n",
        "o\tConditional statements allow a program to choose between different courses of action based on the evaluation of conditions. This is crucial for implementing logic that can handle various scenarios and make decisions accordingly.\n",
        "2.\tFlow Control:\n",
        "o\tThey direct the flow of execution in a program. Depending on whether a condition is true or false, different blocks of code may be executed. This control is vital for creating complex behaviors and responses within the software.\n",
        "3.\tHandling Different Input/Output Cases:\n",
        "o\tConditional statements can be used to perform different actions based on different user inputs or file contents, ensuring that the program behaves correctly in response to the data it receives.\n",
        "4.\tError Checking and Exception Handling:\n",
        "o\tBy checking for certain conditions, a program can prevent errors, alert the user to problems, or handle them gracefully without crashing. For instance, checking if a user-input value is valid before processing it.\n",
        "5.\tImplementing Feature Flags or Configurations:\n",
        "o\tThey can be used to toggle features or configurations dynamically, enabling or disabling functionality based on certain conditions without changing the underlying code base extensively.\n",
        "Python primarily uses the if, elif, and else keywords to create conditional statements.\n",
        "12.\tHow does the elif statement work\n",
        "Ans: The elif statement in Python, short for \"else if,\" is used in conjunction with if and else statements to create complex conditional branches. It allows you to check multiple expressions for True and execute a block of code as soon as one of the conditions evaluates to True.\n",
        "Here’s how the elif statement works:\n",
        "1.\tAn if statement starts the conditional checking, and if the condition is True, the associated block of code is executed.\n",
        "2.\tIf the condition in the if statement is False, the program checks the condition in the elif statement.\n",
        "3.\tYou can have multiple elif statements to check various conditions in sequence.\n",
        "4.\tIf none of the if or elif conditions is True, the code block under the else statement (if present) will be executed.\n",
        "\n",
        "13.\tWhat is the difference between for and while loops\n",
        "Ans: “for” loops and while loops in Python are both used to repeat a block of code multiple times, but they differ in how they handle the conditions for repetition:\n",
        "For Loop:\n",
        "\n",
        "•\tA for loop is used when you want to iterate over a sequence (such as a list, tuple, dictionary, set, or string) or any iterable object.\n",
        "•\tThe loop runs a specific number of times based on the length of the sequence or iterable.\n",
        "•\tThe syntax provides a way to retrieve each item from the iterable in sequence and use it in the loop body.\n",
        "•\tIt is generally used when you know the number of iterations in advance\n",
        "Example:\n",
        "fruits = [\"apple\", \"banana\", \"cherry\"]\n",
        "for fruit in fruits:\n",
        "    print(fruit)\n",
        ">> This loop will print each fruit in the list fruits.\n",
        "\n",
        "While Loop:\n",
        "•\tA while loop is used when you need to repeat a block of code based on a condition. The loop runs as long as the condition is True.\n",
        "•\tThe condition is checked before each iteration, and if it evaluates to False, the loop stops.\n",
        "•\tIt is typically used when you do not know in advance how many times the loop needs to execute, but rather you continue looping based on the state of a condition that changes during the loop's execution.\n",
        "Example\n",
        "count = 0\n",
        "while count < 3:\n",
        "    print(\"Looping\")\n",
        "    count += 1\n",
        ">> This loop will print \"Looping\" three times.\n",
        "\n",
        "\n",
        "14.\tDescribe a scenario where a while loop is more suitable than a for loop.\n",
        "Ans: A while loop is more suitable than a for loop in scenarios where the number of iterations isn't known beforehand and the loop needs to continue until a specific condition changes, which may depend on factors internal to the loop execution. Here's a scenario that illustrates when a while loop is more appropriate:\n",
        "\n"
      ]
    },
    {
      "cell_type": "markdown",
      "metadata": {
        "id": "20luBiQhj4zQ"
      },
      "source": [
        "Python Practical Questions"
      ]
    },
    {
      "cell_type": "code",
      "execution_count": null,
      "metadata": {
        "id": "PSCdZllNj_0o",
        "colab": {
          "base_uri": "https://localhost:8080/"
        },
        "outputId": "f018e580-b5e2-4f2c-e7c7-fdd6ba4533b1"
      },
      "outputs": [
        {
          "output_type": "stream",
          "name": "stdout",
          "text": [
            "Hello, World:\n"
          ]
        }
      ],
      "source": [
        "#1.\tWrite a Python program to print \"Hello, World!\"\n",
        "print (\"Hello, World:\")\n",
        "\n"
      ]
    },
    {
      "cell_type": "code",
      "source": [
        "#2. Write a python program that displays your name and age.\n",
        "\n",
        "name = input (\"Enter your name: \")\n",
        "age = input (\"Enter your age: \")\n",
        "print (\"name\")\n",
        "print (age)\n",
        "print (f\"Hello, {name}! you are {age} years old\")"
      ],
      "metadata": {
        "colab": {
          "base_uri": "https://localhost:8080/"
        },
        "id": "NQLE-dU0anPJ",
        "outputId": "5ab9d3ad-ea2f-4f7f-9fd9-ddd99937d0c0"
      },
      "execution_count": null,
      "outputs": [
        {
          "output_type": "stream",
          "name": "stdout",
          "text": [
            "Enter your name: Jagadish\n",
            "Enter your age: 40\n",
            "name\n",
            "40\n",
            "Hello, Jagadish! you are 40 years old\n"
          ]
        }
      ]
    },
    {
      "cell_type": "code",
      "source": [
        "#3.\tWrite code to print all the pre-defined keywords in Python using the keyword library.\n",
        "\n",
        "help (\"keywords\")\n",
        "\n"
      ],
      "metadata": {
        "colab": {
          "base_uri": "https://localhost:8080/"
        },
        "id": "alKnauVir8_l",
        "outputId": "b4518241-55b0-4056-e0c7-39f5116e6245"
      },
      "execution_count": null,
      "outputs": [
        {
          "output_type": "stream",
          "name": "stdout",
          "text": [
            "\n",
            "Here is a list of the Python keywords.  Enter any keyword to get more help.\n",
            "\n",
            "False               class               from                or\n",
            "None                continue            global              pass\n",
            "True                def                 if                  raise\n",
            "and                 del                 import              return\n",
            "as                  elif                in                  try\n",
            "assert              else                is                  while\n",
            "async               except              lambda              with\n",
            "await               finally             nonlocal            yield\n",
            "break               for                 not                 \n",
            "\n"
          ]
        }
      ]
    },
    {
      "cell_type": "code",
      "source": [
        "#4.\tWrite a program that checks if a given word is a Python keyword\n",
        "\n",
        "import keyword\n",
        "s= input ('Enter any keyword')\n",
        "\n",
        "if keyword.iskeyword(s):\n",
        "\n",
        "  print  ('Your entered word is keyword in python')\n",
        "\n",
        "else:\n",
        "\n",
        "  print ('Your entered word is not a keyword in python')\n",
        "\n"
      ],
      "metadata": {
        "colab": {
          "base_uri": "https://localhost:8080/"
        },
        "id": "-JMWC0pYuvaI",
        "outputId": "28aa71af-f192-4543-c58c-5fe3bf7c16ad"
      },
      "execution_count": null,
      "outputs": [
        {
          "output_type": "stream",
          "name": "stdout",
          "text": [
            "Enter any keywordFinally\n",
            "Your entered word is not a keyword in python\n"
          ]
        }
      ]
    },
    {
      "cell_type": "code",
      "source": [
        "# 5.\tCreate a list and tuple in Python, and demonstrate how attempting to change an element works differently\n",
        "\n",
        "#Create a list\n",
        "\n",
        "list = [1, 2, 3, 4]\n",
        "print (list)\n",
        "print (type(list))\n",
        "\n"
      ],
      "metadata": {
        "colab": {
          "base_uri": "https://localhost:8080/"
        },
        "id": "OpwQYHo1wXLP",
        "outputId": "00df5722-3735-4d01-aace-411d16a6f85d"
      },
      "execution_count": null,
      "outputs": [
        {
          "output_type": "stream",
          "name": "stdout",
          "text": [
            "[1, 2, 3, 4]\n",
            "<class 'list'>\n"
          ]
        }
      ]
    },
    {
      "cell_type": "code",
      "source": [
        "#5. Create a list and tuple in Python, and demonstrate how attempting to change an element works differently\n",
        "\n",
        "#change the second in the list.\n",
        "\n",
        "list [2] = 500\n",
        "print (list [2])\n",
        "print (list)\n",
        "\n",
        "list [3]= 3\n",
        "print (list [3])\n",
        "print (list)\n",
        "\n"
      ],
      "metadata": {
        "colab": {
          "base_uri": "https://localhost:8080/"
        },
        "id": "qg-6OyyN4l8C",
        "outputId": "52c27385-04bc-44ce-add7-46f6beacb237"
      },
      "execution_count": null,
      "outputs": [
        {
          "output_type": "stream",
          "name": "stdout",
          "text": [
            "500\n",
            "[1, 2, 500, 3]\n",
            "3\n",
            "[1, 2, 500, 3]\n"
          ]
        }
      ]
    },
    {
      "cell_type": "code",
      "source": [
        "#5 Create a tuple\n",
        "Tup = (1.2, 1, 3, 5.9)\n",
        "print (Tup)\n",
        "print (Tup[1:3])\n"
      ],
      "metadata": {
        "colab": {
          "base_uri": "https://localhost:8080/"
        },
        "id": "dGMO5MPG86ZL",
        "outputId": "a0d1cd40-36a8-4bb0-ae13-0bf8d6496204"
      },
      "execution_count": null,
      "outputs": [
        {
          "output_type": "stream",
          "name": "stdout",
          "text": [
            "(1.2, 1, 3, 5.9)\n",
            "(1, 3)\n"
          ]
        }
      ]
    },
    {
      "cell_type": "code",
      "source": [
        "#5 Methods of Tuple\n",
        "\n",
        "Tup = (1, 2, 3, 4,3, 3, 3)\n",
        "print (Tup)\n",
        "\n",
        "#Tuple Index\n",
        "print (Tup.index(2))\n",
        "\n",
        "#Tuple Count\n",
        "print (Tup.count(3))"
      ],
      "metadata": {
        "colab": {
          "base_uri": "https://localhost:8080/"
        },
        "id": "Y9hrv1sw-hv7",
        "outputId": "9f465aaa-2ef7-4a6d-e293-15e62935f392"
      },
      "execution_count": null,
      "outputs": [
        {
          "output_type": "stream",
          "name": "stdout",
          "text": [
            "(1, 2, 3, 4, 3, 3, 3)\n",
            "1\n",
            "4\n"
          ]
        }
      ]
    },
    {
      "cell_type": "code",
      "source": [
        "# 15.\tWrite a Python program to calculate the factorial of a number provided by the user using a while loop.\n",
        "\n",
        "n= int(input(\"Enter a number:\"))\n",
        "fact = 1\n",
        "\n",
        "for i in range(1,n+1):\n",
        "  fact*=i\n",
        "\n",
        "print (\"factorial of \",n, \":\", fact)"
      ],
      "metadata": {
        "id": "MsHFtNERjNYm",
        "colab": {
          "base_uri": "https://localhost:8080/"
        },
        "outputId": "e29764e1-c992-41b1-cdfc-3829d8e01260"
      },
      "execution_count": 16,
      "outputs": [
        {
          "output_type": "stream",
          "name": "stdout",
          "text": [
            "Enter a number:5\n",
            "factorial of  5 : 120\n"
          ]
        }
      ]
    },
    {
      "cell_type": "code",
      "source": [
        "# 14.\tWrite a program to reverse a string using a while loop\n",
        "\n",
        "# Function to reverse a string using a while loop\n",
        "def reverse_string(input_string):\n",
        "    reversed_string = \"\"  # Initialize an empty string to store the reversed string\n",
        "    index = len(input_string) - 1  # Start from the last character of the string\n",
        "\n",
        "    # Loop through the string in reverse order\n",
        "    while index >= 0:\n",
        "        reversed_string += input_string[index]  # Append the character to the reversed string\n",
        "        index -= 1  # Move to the previous character\n",
        "\n",
        "    return reversed_string\n",
        "\n",
        "# Example usage\n",
        "input_string = input(\"Enter a string to reverse: \")\n",
        "result = reverse_string(input_string)\n",
        "print(\"Reversed string:\", result)\n",
        "\n",
        "\n",
        "\n"
      ],
      "metadata": {
        "colab": {
          "base_uri": "https://localhost:8080/"
        },
        "id": "Ul1tMBXRfLB4",
        "outputId": "028da1a0-f81a-4942-e1e5-a4cfda3a3c1d"
      },
      "execution_count": 60,
      "outputs": [
        {
          "output_type": "stream",
          "name": "stdout",
          "text": [
            "Enter a string to reverse: JAGADISH\n",
            "Reversed string: HSIDAGAJ\n"
          ]
        }
      ]
    },
    {
      "cell_type": "code",
      "source": [],
      "metadata": {
        "id": "IEptsIM3nE5N"
      },
      "execution_count": null,
      "outputs": []
    },
    {
      "cell_type": "code",
      "source": [
        "# 13.\tWrite a Python program to find the sum of all even numbers between 1 and 500\n",
        "\n",
        "sum_of_evens = 0\n",
        "\n",
        "# Loop through all numbers from 1 to 500\n",
        "for number in range(1, 501):\n",
        "    if number % 2 == 0:\n",
        "        sum_of_evens += number\n",
        "\n",
        "# Print the result\n",
        "print(\"The sum of all even numbers between 1 and 500 is:\", sum_of_evens)"
      ],
      "metadata": {
        "colab": {
          "base_uri": "https://localhost:8080/"
        },
        "id": "lnK7-sbfwpwk",
        "outputId": "28c87ea7-fab2-47be-aefa-83b0bab36cb2"
      },
      "execution_count": 59,
      "outputs": [
        {
          "output_type": "stream",
          "name": "stdout",
          "text": [
            "The sum of all even numbers between 1 and 500 is: 62750\n"
          ]
        }
      ]
    },
    {
      "cell_type": "code",
      "source": [
        "# 12.\tWrite a for loop to print numbers from 1 to 100\n",
        "for number in range(1, 101):\n",
        "    print(number)"
      ],
      "metadata": {
        "colab": {
          "base_uri": "https://localhost:8080/"
        },
        "id": "e361OusQ7Nz9",
        "outputId": "b5a0322b-db57-4494-8850-752c8219793e"
      },
      "execution_count": 61,
      "outputs": [
        {
          "output_type": "stream",
          "name": "stdout",
          "text": [
            "1\n",
            "2\n",
            "3\n",
            "4\n",
            "5\n",
            "6\n",
            "7\n",
            "8\n",
            "9\n",
            "10\n",
            "11\n",
            "12\n",
            "13\n",
            "14\n",
            "15\n",
            "16\n",
            "17\n",
            "18\n",
            "19\n",
            "20\n",
            "21\n",
            "22\n",
            "23\n",
            "24\n",
            "25\n",
            "26\n",
            "27\n",
            "28\n",
            "29\n",
            "30\n",
            "31\n",
            "32\n",
            "33\n",
            "34\n",
            "35\n",
            "36\n",
            "37\n",
            "38\n",
            "39\n",
            "40\n",
            "41\n",
            "42\n",
            "43\n",
            "44\n",
            "45\n",
            "46\n",
            "47\n",
            "48\n",
            "49\n",
            "50\n",
            "51\n",
            "52\n",
            "53\n",
            "54\n",
            "55\n",
            "56\n",
            "57\n",
            "58\n",
            "59\n",
            "60\n",
            "61\n",
            "62\n",
            "63\n",
            "64\n",
            "65\n",
            "66\n",
            "67\n",
            "68\n",
            "69\n",
            "70\n",
            "71\n",
            "72\n",
            "73\n",
            "74\n",
            "75\n",
            "76\n",
            "77\n",
            "78\n",
            "79\n",
            "80\n",
            "81\n",
            "82\n",
            "83\n",
            "84\n",
            "85\n",
            "86\n",
            "87\n",
            "88\n",
            "89\n",
            "90\n",
            "91\n",
            "92\n",
            "93\n",
            "94\n",
            "95\n",
            "96\n",
            "97\n",
            "98\n",
            "99\n",
            "100\n"
          ]
        }
      ]
    },
    {
      "cell_type": "code",
      "source": [
        "# 11.Write a program that checks if a number is positive, negative, or zero\n",
        "\n",
        "number = float(input(\"Enter a number: \"))\n",
        "\n",
        "# Check if the number is positive, negative, or zero\n",
        "if number > 0:\n",
        "    print(\"The number is positive.\")\n",
        "elif number < 0:\n",
        "    print(\"The number is negative.\")\n",
        "else:\n",
        "    print(\"The number is zero.\")"
      ],
      "metadata": {
        "colab": {
          "base_uri": "https://localhost:8080/"
        },
        "id": "LUz04Ldz7ewt",
        "outputId": "33237975-08eb-4135-d5ba-c918c10e2d4e"
      },
      "execution_count": 65,
      "outputs": [
        {
          "output_type": "stream",
          "name": "stdout",
          "text": [
            "Enter a number: -1\n",
            "The number is negative.\n"
          ]
        }
      ]
    },
    {
      "cell_type": "code",
      "source": [
        "# 10.\tWrite code to demonstrate type casting with list elements0\n",
        "\n",
        "# List of integers\n",
        "int_list = [1, 2, 3, 4, 5]\n",
        "\n",
        "# Convert each integer to a string using type casting\n",
        "str_list = [str(x) for x in int_list]\n",
        "\n",
        "# Print the original list and the new list after type casting\n",
        "print(\"Original List (Integers):\", int_list)\n",
        "print(\"New List (Strings):\", str_list)\n",
        "\n",
        "# Example of type casting from string to integer\n",
        "string_list = ['10', '20', '30', '40']\n",
        "\n",
        "# Convert each string to an integer using type casting\n",
        "int_list_from_strings = [int(x) for x in string_list]\n",
        "\n",
        "# Print the original string list and the new list after type casting\n",
        "print(\"Original List (Strings):\", string_list)\n",
        "print(\"New List (Integers):\", int_list_from_strings)\n"
      ],
      "metadata": {
        "colab": {
          "base_uri": "https://localhost:8080/"
        },
        "id": "zqETMw1a7-cO",
        "outputId": "a1ff47e3-aed2-4fd5-9f4b-66c874103524"
      },
      "execution_count": 66,
      "outputs": [
        {
          "output_type": "stream",
          "name": "stdout",
          "text": [
            "Original List (Integers): [1, 2, 3, 4, 5]\n",
            "New List (Strings): ['1', '2', '3', '4', '5']\n",
            "Original List (Strings): ['10', '20', '30', '40']\n",
            "New List (Integers): [10, 20, 30, 40]\n"
          ]
        }
      ]
    },
    {
      "cell_type": "code",
      "source": [
        "# 9.\tWrite a Python program to convert user input from string to integer, float, and boolean types\n",
        "\n",
        "# Taking user input as a string\n",
        "user_input = input(\"Enter a value: \")\n",
        "\n",
        "# Converting the string to an integer\n",
        "integer_value = int(user_input)\n",
        "print(\"Converted to integer:\", integer_value)\n",
        "\n",
        "# Converting the string to a float\n",
        "float_value = float(user_input)\n",
        "print(\"Converted to float:\", float_value)\n",
        "\n",
        "# Converting the string to a boolean\n",
        "# In Python, an empty string converts to False, and any non-empty string converts to True\n",
        "boolean_value = bool(user_input)\n",
        "print(\"Converted to boolean:\", boolean_value)\n",
        "\n"
      ],
      "metadata": {
        "colab": {
          "base_uri": "https://localhost:8080/"
        },
        "id": "GM4za-an8PzU",
        "outputId": "45b028d0-93e2-490e-a557-a6bb454f7af5"
      },
      "execution_count": 68,
      "outputs": [
        {
          "output_type": "stream",
          "name": "stdout",
          "text": [
            "Enter a value: 36\n",
            "Converted to integer: 36\n",
            "Converted to float: 36.0\n",
            "Converted to boolean: True\n"
          ]
        }
      ]
    },
    {
      "cell_type": "code",
      "source": [
        "# 8.\tWrite a program to demonstrate the use of logical operators\n",
        "\n",
        "# Taking input from the user\n",
        "x = int(input(\"Enter the first number: \"))\n",
        "y = int(input(\"Enter the second number: \"))\n",
        "\n",
        "# Using 'and' logical operator\n",
        "if x > 0 and y > 0:\n",
        "    print(\"Both numbers are positive.\")\n",
        "\n",
        "# Using 'or' logical operator\n",
        "if x > 0 or y > 0:\n",
        "    print(\"At least one of the numbers is positive.\")\n",
        "\n",
        "# Using 'not' logical operator\n",
        "if not (x == y):\n",
        "    print(\"The numbers are not equal.\")\n"
      ],
      "metadata": {
        "colab": {
          "base_uri": "https://localhost:8080/"
        },
        "id": "dPBWRul48viZ",
        "outputId": "bd55df17-4a43-40dc-e7bb-428e19e0842d"
      },
      "execution_count": 69,
      "outputs": [
        {
          "output_type": "stream",
          "name": "stdout",
          "text": [
            "Enter the first number: 3\n",
            "Enter the second number: 2\n",
            "Both numbers are positive.\n",
            "At least one of the numbers is positive.\n",
            "The numbers are not equal.\n"
          ]
        }
      ]
    },
    {
      "cell_type": "code",
      "source": [
        "#6 &7.\tWrite a function to demonstrate the behavior of mutable and immutable arguments\n",
        "\n",
        "# Both and 6 & 7 are same in the question\n",
        "\n",
        "def demonstrate_mutable_immutable(arg1, arg2):\n",
        "    # Modify mutable argument (list)\n",
        "    arg1.append(100)  # This will modify the original list\n",
        "\n",
        "    # Modify immutable argument (integer)\n",
        "    arg2 += 10  # This will not modify the original integer\n",
        "\n",
        "    # Print the modified values inside the function\n",
        "    print(\"Inside the function:\")\n",
        "    print(\"Mutable argument (list):\", arg1)\n",
        "    print(\"Immutable argument (integer):\", arg2)\n",
        "\n",
        "\n",
        "# Test with mutable and immutable arguments\n",
        "my_list = [1, 2, 3]\n",
        "my_int = 5\n",
        "\n",
        "print(\"Before calling the function:\")\n",
        "print(\"Mutable argument (list):\", my_list)\n",
        "print(\"Immutable argument (integer):\", my_int)\n",
        "\n",
        "# Call the function\n",
        "demonstrate_mutable_immutable(my_list, my_int)\n",
        "\n",
        "print(\"\\nAfter calling the function:\")\n",
        "print(\"Mutable argument (list):\", my_list)\n",
        "print(\"Immutable argument (integer):\", my_int)\n"
      ],
      "metadata": {
        "colab": {
          "base_uri": "https://localhost:8080/"
        },
        "id": "r8FtevXV8-kS",
        "outputId": "f7d89ac8-76fe-44f3-f3e1-dd73fb33ae61"
      },
      "execution_count": 72,
      "outputs": [
        {
          "output_type": "stream",
          "name": "stdout",
          "text": [
            "Before calling the function:\n",
            "Mutable argument (list): [1, 2, 3]\n",
            "Immutable argument (integer): 5\n",
            "Inside the function:\n",
            "Mutable argument (list): [1, 2, 3, 100]\n",
            "Immutable argument (integer): 15\n",
            "\n",
            "After calling the function:\n",
            "Mutable argument (list): [1, 2, 3, 100]\n",
            "Immutable argument (integer): 5\n"
          ]
        }
      ]
    }
  ],
  "metadata": {
    "colab": {
      "provenance": []
    },
    "kernelspec": {
      "display_name": "Python 3",
      "name": "python3"
    },
    "language_info": {
      "name": "python"
    }
  },
  "nbformat": 4,
  "nbformat_minor": 0
}